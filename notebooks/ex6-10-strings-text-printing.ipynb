{
 "cells": [
  {
   "cell_type": "markdown",
   "metadata": {},
   "source": [
    "### Strings and Text\n",
    "Some usage examples:"
   ]
  },
  {
   "cell_type": "code",
   "execution_count": 6,
   "metadata": {},
   "outputs": [
    {
     "name": "stdout",
     "output_type": "stream",
     "text": [
      "There are 10 types of people.\n",
      "Those who understand binary and those who don't.\n",
      "I said: There are 10 types of people.\n",
      "I also said: Those who understand binary and those who don't.\n",
      "Isn't that joke funny! False\n",
      "This is the left side of...a string with a right side.\n"
     ]
    }
   ],
   "source": [
    "types_of_people = 10\n",
    "\n",
    "# insert the int types_of_people into the string x with a format string (f-string)\n",
    "# the variable in the curly braces will automatically be formatted as a string\n",
    "x = f\"There are {types_of_people} types of people.\"\n",
    "\n",
    "binary = \"binary\"\n",
    "do_not = \"don't\"\n",
    "\n",
    "# here we're inserting two strings within the string y\n",
    "y = f\"Those who understand {binary} and those who {do_not}.\"\n",
    "\n",
    "print(x)\n",
    "print(y)\n",
    "\n",
    "print(f\"I said: {x}\")\n",
    "print(f\"I also said: {y}\")\n",
    "\n",
    "hilarious = False\n",
    "joke_evaluation = \"Isn't that joke funny! {}\" \n",
    "\n",
    "# here we pass the boolean hilarious as an argument to .format which converts it to a string\n",
    "print(joke_evaluation.format(hilarious))\n",
    "\n",
    "w = \"This is the left side of...\"\n",
    "e = \"a string with a right side.\"\n",
    "\n",
    "print(w + e)\n"
   ]
  },
  {
   "cell_type": "markdown",
   "metadata": {},
   "source": [
    "### print using .format( )\n",
    "\n",
    "Some examples"
   ]
  },
  {
   "cell_type": "code",
   "execution_count": 7,
   "metadata": {},
   "outputs": [
    {
     "name": "stdout",
     "output_type": "stream",
     "text": [
      "1 2 3 4\n",
      "one two three four\n",
      "True False False True\n",
      "{} {} {} {} {} {} {} {} {} {} {} {} {} {} {} {}\n",
      "Enter any text here It can be anything, a poem, a shopping list, whatever you want!\n"
     ]
    }
   ],
   "source": [
    "formatter = \"{} {} {} {}\"\n",
    "\n",
    "# pass arguments to formatter's format function.\n",
    "# note how the number of arguments must match the number of {} placeholders\n",
    "print(formatter.format(1,2,3,4))\n",
    "print(formatter.format('one', 'two', 'three', 'four'))\n",
    "print(formatter.format(True, False, False, True))\n",
    "print(formatter.format(formatter, formatter, formatter, formatter))\n",
    "print(formatter.format(\n",
    "    \"Enter any text here\",\n",
    "    \"It can be anything,\",\n",
    "    \"a poem, a shopping list,\",\n",
    "    \"whatever you want!\"\n",
    "))\n"
   ]
  },
  {
   "cell_type": "markdown",
   "metadata": {},
   "source": [
    "#### More print stuff...\n"
   ]
  },
  {
   "cell_type": "code",
   "execution_count": 8,
   "metadata": {},
   "outputs": [
    {
     "name": "stdout",
     "output_type": "stream",
     "text": [
      "Here are the days: Mon Tue Wed Thu Fri Sat Sun\n",
      "Here are the months: \n",
      "Jan\n",
      "Feb\n",
      "Mar\n",
      "Apr\n",
      "May\n",
      "June\n",
      "July\n",
      "Aug\n",
      "Sept\n",
      "Oct\n",
      "Nov\n",
      "Dec\n",
      "\n",
      "This is a block of text.\n",
      "The triple quotes do that.\n",
      "I can type whatever I want here,\n",
      "as many lines as I want, and the whole\n",
      "thing will be treated as a\n",
      "single block of text\n"
     ]
    }
   ],
   "source": [
    "days = \"Mon Tue Wed Thu Fri Sat Sun\"\n",
    "months = \"\\nJan\\nFeb\\nMar\\nApr\\nMay\\nJune\\nJuly\\nAug\\nSept\\nOct\\nNov\\nDec\"\n",
    "\n",
    "# we can do this (but dont forget the comma!)\n",
    "print(\"Here are the days:\", days)\n",
    "print(\"Here are the months:\", months)\n",
    "\n",
    "# handling a block of text\n",
    "print(\"\"\"\n",
    "This is a block of text.\n",
    "The triple quotes do that.\n",
    "I can type whatever I want here,\n",
    "as many lines as I want, and the whole\n",
    "thing will be treated as a\n",
    "single block of text\"\"\")\n"
   ]
  },
  {
   "cell_type": "markdown",
   "metadata": {},
   "source": [
    "### Escape sequences\n",
    "\n",
    "First some examples...  (the full list will follow)"
   ]
  },
  {
   "cell_type": "code",
   "execution_count": 9,
   "metadata": {},
   "outputs": [
    {
     "name": "stdout",
     "output_type": "stream",
     "text": [
      "I am 5'9\" tall.\n",
      "I am 5'9\" tall.\n",
      "\tI'm tabbed in.\n",
      "I'm split\n",
      "on a line.\n",
      "I'm \\ a \\ cat.\n",
      "\n",
      "I'll make a list:\n",
      "\t* Cat food\n",
      "\t* Fishies\n",
      "\t* Catnip\n",
      "\t* Grass\n",
      "\n"
     ]
    }
   ],
   "source": [
    "height1 = \"I am 5'9\\\" tall.\"\n",
    "height2 = 'I am 5\\'9\" tall.'\n",
    "\n",
    "tabby_cat = \"\\tI'm tabbed in.\"\n",
    "persian_cat = \"I'm split\\non a line.\"\n",
    "backslash_cat = \"I'm \\\\ a \\\\ cat.\"\n",
    "\n",
    "fat_cat = \"\"\"\n",
    "I'll make a list:\n",
    "\\t* Cat food\n",
    "\\t* Fishies\n",
    "\\t* Catnip\n",
    "\\t* Grass\n",
    "\"\"\"\n",
    "\n",
    "print(height1)\n",
    "print(height2)\n",
    "print(tabby_cat)\n",
    "print(persian_cat)\n",
    "print(backslash_cat)\n",
    "print(fat_cat)\n"
   ]
  },
  {
   "cell_type": "markdown",
   "metadata": {},
   "source": [
    "### Escape Sequence List\n",
    "\n",
    "- \\\\            Backslash (\\)\n",
    "- \\\\'           Single-quote (')\n",
    "- \\\\\"           Double-quote (\")\n",
    "- \\a            ASCII bell (BEL)\n",
    "- \\b            ASCII backspace (BS)\n",
    "- \\f            ASCII formfeed (FF)\n",
    "- \\n            ASCII linefeed (LF)\n",
    "- \\N{name}      Character named {name} in the Unicode database (Unicode only)\n",
    "- \\r            Carriage return (CR)\n",
    "- \\t            Horizontal tab(TAB)\n",
    "- \\uxxxx        Character with 16-bit hex value xxxx\n",
    "- \\Uxxxxxxxx    Character with 32-bit hex value xxxxxxxx\n",
    "- \\v            ASCII vertical tab (VT)\n",
    "- \\000          Character with octal value 000\n",
    "- \\xhh          Character with hex value hh\n"
   ]
  },
  {
   "cell_type": "code",
   "execution_count": null,
   "metadata": {},
   "outputs": [],
   "source": []
  }
 ],
 "metadata": {
  "kernel_info": {
   "name": "python3"
  },
  "kernelspec": {
   "display_name": "Python 3",
   "language": "python",
   "name": "python3"
  },
  "language_info": {
   "codemirror_mode": {
    "name": "ipython",
    "version": 3
   },
   "file_extension": ".py",
   "mimetype": "text/x-python",
   "name": "python",
   "nbconvert_exporter": "python",
   "pygments_lexer": "ipython3",
   "version": "3.7.5"
  },
  "nteract": {
   "version": "0.15.0"
  }
 },
 "nbformat": 4,
 "nbformat_minor": 2
}
