{
 "cells": [
  {
   "cell_type": "markdown",
   "metadata": {},
   "source": [
    "#### Prompting People\n",
    "\n",
    "Use input( ) to promt a user for input"
   ]
  },
  {
   "cell_type": "code",
   "execution_count": 1,
   "metadata": {},
   "outputs": [
    {
     "name": "stdout",
     "output_type": "stream",
     "text": [
      "How old are you? 53\n",
      "How tall are you? 5'9\"\n",
      "How much do you weigh? 120\n"
     ]
    }
   ],
   "source": [
    "age = input(\"How old are you? \")\n",
    "height = input(\"How tall are you? \")\n",
    "weight = input(\"How much do you weigh? \")"
   ]
  },
  {
   "cell_type": "code",
   "execution_count": 3,
   "metadata": {},
   "outputs": [
    {
     "name": "stdout",
     "output_type": "stream",
     "text": [
      "So, you're 53 years old, you're 5'9\" tall and you weigh 120 lbs.\n"
     ]
    }
   ],
   "source": [
    "print(f\"So, you're {age} years old, you're {height} tall and you weigh {weight} lbs.\")"
   ]
  },
  {
   "cell_type": "markdown",
   "metadata": {},
   "source": [
    "#### Parameters, Unpacking, Argument Variables\n",
    "\n",
    "Look at the following code:\n",
    "\n",
    "from sys import argv\n",
    "\n",
    "script, first, second, third = argv\n",
    "\n",
    "print(\"The script is called:\", script)\n",
    "<br>\n",
    "print(\"The first variable is:\", first)\n",
    "<br>\n",
    "print(\"The second variable is:\", second)\n",
    "<br>\n",
    "print(\"the third variable is:\", third)\n",
    "\n",
    "This code won't run properly inside a Jupyter notebook becasue there's no script name to pass as the first argument. However if we comment out the script parts we can see the three arguments that Jupyter passes to the interpreter when this cell is run:"
   ]
  },
  {
   "cell_type": "code",
   "execution_count": null,
   "metadata": {},
   "outputs": [],
   "source": [
    "from sys import argv\n",
    "\n",
    "# script, \n",
    "first, second, third = argv\n",
    "\n",
    "# print(\"The script is called:\", script)\n",
    "print(\"The first variable is:\", first)\n",
    "print(\"The second variable is:\", second)\n",
    "print(\"the third variable is:\", third)\n",
    "\n"
   ]
  },
  {
   "cell_type": "code",
   "execution_count": null,
   "metadata": {},
   "outputs": [],
   "source": [
    "from sys import argv\n",
    "\n",
    "user_name = argv\n",
    "\n",
    "prompt = '> '\n",
    "\n",
    "print(f\"Hi {user_name}!\")\n",
    "\n",
    "print(\"How old are you?\")\n",
    "age = input(prompt)\n",
    "\n",
    "print(\"Where do you live?\")\n",
    "city = input(prompt)\n",
    "\n",
    "print(\"What do you do?\")\n",
    "occupation = input(prompt)\n",
    "\n",
    "print(f\"\"\"\n",
    "So {user_name}, you're {age} years old, you live in {city}. \n",
    "You're a {occupation}. That's cool!\n",
    "Am I in {city} now?\n",
    "\"\"\")\n",
    "\n",
    "      "
   ]
  },
  {
   "cell_type": "code",
   "execution_count": null,
   "metadata": {},
   "outputs": [],
   "source": []
  }
 ],
 "metadata": {
  "kernel_info": {
   "name": "python3"
  },
  "kernelspec": {
   "display_name": "Python 3",
   "language": "python",
   "name": "python3"
  },
  "language_info": {
   "codemirror_mode": {
    "name": "ipython",
    "version": 3
   },
   "file_extension": ".py",
   "mimetype": "text/x-python",
   "name": "python",
   "nbconvert_exporter": "python",
   "pygments_lexer": "ipython3",
   "version": "3.7.5"
  },
  "nteract": {
   "version": "0.15.0"
  }
 },
 "nbformat": 4,
 "nbformat_minor": 2
}
